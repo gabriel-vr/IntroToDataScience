{
  "cells": [
    {
      "cell_type": "markdown",
      "id": "f2e62474",
      "metadata": {
        "id": "f2e62474"
      },
      "source": [
        "### Instalar pacotes\n",
        "\n",
        "Este código precisa de algumas bibliotecas para rodar.<br>\n",
        "Abaixo estão os comando para sua instalação:"
      ]
    },
    {
      "cell_type": "code",
      "execution_count": null,
      "id": "de4881f1",
      "metadata": {
        "id": "de4881f1"
      },
      "outputs": [],
      "source": [
        "# !pip install bitstring"
      ]
    },
    {
      "cell_type": "markdown",
      "id": "c2a7cad4",
      "metadata": {
        "id": "c2a7cad4"
      },
      "source": [
        "### Código Auxiliar"
      ]
    },
    {
      "cell_type": "code",
      "execution_count": null,
      "id": "41315586",
      "metadata": {
        "id": "41315586"
      },
      "outputs": [],
      "source": [
        "import pickle\n",
        "import numpy as np\n",
        "\n",
        "from itertools import product\n",
        "from bitstring import BitArray, Bits, BitStream"
      ]
    },
    {
      "cell_type": "code",
      "execution_count": null,
      "id": "957f0d91",
      "metadata": {
        "id": "957f0d91"
      },
      "outputs": [],
      "source": [
        "class MyImgFormat:\n",
        "    def __init__(self, mat_rgb_ids, rgb_ids_dict):\n",
        "        self.im_shape_      = mat_rgb_ids.shape\n",
        "        self.rgb_ids_dict_  = rgb_ids_dict\n",
        "        self.num_bits_uint_ = int(np.ceil(np.log2(len(rgb_ids_dict))))\n",
        "        \n",
        "        self._mat2bytes(mat_rgb_ids)\n",
        "        \n",
        "    def _mat2bytes(self, mat):\n",
        "        self.pixel_bytes_ = BitStream()\n",
        "        \n",
        "        pixel_rgb_ids = mat.reshape(-1)\n",
        "        for rgb_id in pixel_rgb_ids:\n",
        "            self.pixel_bytes_.append(Bits(uint=int(rgb_id), length=self.num_bits_uint_))\n",
        "        \n",
        "    def unpack(self):\n",
        "        # unpack IDs\n",
        "        cp_bits = self.pixel_bytes_.copy()\n",
        "        num_ids = cp_bits.len // self.num_bits_uint_\n",
        "        \n",
        "        mat_ids = np.array([\n",
        "            cp_bits.read('uint:%d' % (self.num_bits_uint_))\\\n",
        "            for i in range(num_ids)\\\n",
        "        ]).reshape(self.im_shape_)\n",
        "        \n",
        "        # unpack RGB\n",
        "        im_rgb = np.zeros((self.im_shape_[0], self.im_shape_[1], 3), dtype='uint8')\n",
        "        for i in range(self.im_shape_[0]):\n",
        "            for j in range(self.im_shape_[1]):\n",
        "                im_rgb[i, j, :] = self.rgb_ids_dict_[mat_ids[i, j]]\n",
        "                \n",
        "        return im_rgb"
      ]
    },
    {
      "cell_type": "code",
      "execution_count": null,
      "id": "24e79f31",
      "metadata": {
        "id": "24e79f31"
      },
      "outputs": [],
      "source": [
        "def uniform_quant(im, n_colors):\n",
        "    # numero de cores e espaco entre as cores (lagura do bin)\n",
        "    n_vals_ch  = int(np.cbrt(n_colors))\n",
        "    bin_size   = 256 // n_vals_ch\n",
        "    \n",
        "    # possiveis valores por canal e por pixel (combinacao dos 3 canais)\n",
        "    ch_vals    = np.uint8((np.arange(n_vals_ch)) * bin_size)\n",
        "    pixel_vals = list(product(ch_vals, ch_vals, ch_vals))\n",
        "    \n",
        "    im_qt_rgb  = im // bin_size\n",
        "    im_qt_rgb[im_qt_rgb >= n_vals_ch] = n_vals_ch - 1\n",
        "    im_qt_rgb  = np.uint8((im_qt_rgb) * bin_size)\n",
        "    \n",
        "    # criar os dicionarios ID -> pixel e pixel -> ID\n",
        "    dict_id2pixel = {i: list(pixel_vals[i]) for i in range(len(pixel_vals))}\n",
        "    dict_pixel2id = {pixel_vals[i]: i for i in range(len(pixel_vals))}\n",
        "    \n",
        "    mat_ids = np.zeros((im.shape[0], im.shape[1]), dtype='uint8')\n",
        "    for i in range(im.shape[0]):\n",
        "        for j in range(im.shape[1]):\n",
        "            mat_ids[i, j] = dict_pixel2id[tuple(im_qt_rgb[i, j])]\n",
        "    \n",
        "    return mat_ids, dict_id2pixel"
      ]
    },
    {
      "cell_type": "code",
      "execution_count": null,
      "id": "e0f5a940",
      "metadata": {
        "id": "e0f5a940"
      },
      "outputs": [],
      "source": [
        "def get_bin_size_kb(obj):\n",
        "    return len(pickle.dumps(obj)) / 1e3"
      ]
    }
  ],
  "metadata": {
    "kernelspec": {
      "display_name": "Python 3",
      "language": "python",
      "name": "python3"
    },
    "language_info": {
      "codemirror_mode": {
        "name": "ipython",
        "version": 3
      },
      "file_extension": ".py",
      "mimetype": "text/x-python",
      "name": "python",
      "nbconvert_exporter": "python",
      "pygments_lexer": "ipython3",
      "version": "3.8.8"
    },
    "colab": {
      "provenance": []
    }
  },
  "nbformat": 4,
  "nbformat_minor": 5
}